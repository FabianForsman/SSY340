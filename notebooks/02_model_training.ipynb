{
 "cells": [
  {
   "cell_type": "markdown",
   "id": "b6558c68",
   "metadata": {},
   "source": [
    "# Hate Speech Detection - Model Training and Evaluation\n",
    "\n",
    "This notebook trains and evaluates clustering models on the hate speech dataset.\n",
    "\n",
    "**Models:**\n",
    "- Sentence embeddings: all-MiniLM-L6-v2, paraphrase-MiniLM-L6-v2, all-mpnet-base-v2\n",
    "- Clustering: K-Means, DBSCAN\n",
    "- Evaluation: Adjusted Rand Index (ARI), NMI, Silhouette Score"
   ]
  },
  {
   "cell_type": "code",
   "execution_count": null,
   "id": "7397fcc9",
   "metadata": {},
   "outputs": [],
   "source": [
    "import sys\n",
    "sys.path.append('../src')\n",
    "\n",
    "import pandas as pd\n",
    "import numpy as np\n",
    "import matplotlib.pyplot as plt\n",
    "import seaborn as sns\n",
    "from pathlib import Path\n",
    "\n",
    "from embeddings import EmbeddingGenerator, compare_models\n",
    "from clustering import KMeansClustering, DBSCANClustering, find_optimal_k, plot_elbow_curve\n",
    "from evaluation import ClusteringEvaluator, compare_clustering_methods\n",
    "\n",
    "%matplotlib inline\n",
    "sns.set_style('whitegrid')\n",
    "\n",
    "print(\"Imports complete!\")"
   ]
  },
  {
   "cell_type": "markdown",
   "id": "238eaf72",
   "metadata": {},
   "source": [
    "## 1. Load Processed Data"
   ]
  },
  {
   "cell_type": "code",
   "execution_count": null,
   "id": "b4bd19f7",
   "metadata": {},
   "outputs": [],
   "source": [
    "# Load processed data\n",
    "df = pd.read_csv('../data/processed/processed_data.csv')\n",
    "\n",
    "print(f\"Loaded {len(df)} samples\")\n",
    "print(f\"Columns: {df.columns.tolist()}\")\n",
    "df.head()"
   ]
  },
  {
   "cell_type": "markdown",
   "id": "323237c0",
   "metadata": {},
   "source": [
    "## 2. Generate Embeddings\n",
    "\n",
    "We'll use the lightweight `all-MiniLM-L6-v2` model for fast embeddings."
   ]
  },
  {
   "cell_type": "code",
   "execution_count": null,
   "id": "715615fe",
   "metadata": {},
   "outputs": [],
   "source": [
    "# Initialize embedding generator\n",
    "model_name = 'all-MiniLM-L6-v2'\n",
    "generator = EmbeddingGenerator(model_name)\n",
    "\n",
    "# Generate embeddings\n",
    "embeddings = generator.encode_dataframe(\n",
    "    df,\n",
    "    text_column='cleaned_text',\n",
    "    batch_size=32,\n",
    "    normalize=False\n",
    ")\n",
    "\n",
    "print(f\"\\nEmbeddings shape: {embeddings.shape}\")\n",
    "print(f\"Embedding dimension: {generator.get_embedding_dim()}\")"
   ]
  },
  {
   "cell_type": "code",
   "execution_count": null,
   "id": "cd73845c",
   "metadata": {},
   "outputs": [],
   "source": [
    "# Save embeddings\n",
    "embeddings_path = Path(f'../data/embeddings/embeddings_{model_name}.npy')\n",
    "embeddings_path.parent.mkdir(parents=True, exist_ok=True)\n",
    "generator.save_embeddings(embeddings, embeddings_path)"
   ]
  },
  {
   "cell_type": "markdown",
   "id": "983f09cf",
   "metadata": {},
   "source": [
    "## 3. K-Means Clustering\n",
    "\n",
    "### 3.1 Find Optimal K"
   ]
  },
  {
   "cell_type": "code",
   "execution_count": null,
   "id": "29fd2fbb",
   "metadata": {},
   "outputs": [],
   "source": [
    "# Find optimal k using elbow method\n",
    "k_results = find_optimal_k(embeddings, k_range=range(2, 11), random_state=42)\n",
    "\n",
    "# Plot elbow curve\n",
    "plot_elbow_curve(k_results, save_path='../outputs/figures/elbow_curve.png')"
   ]
  },
  {
   "cell_type": "markdown",
   "id": "aeb9f939",
   "metadata": {},
   "source": [
    "### 3.2 Train K-Means with k=2\n",
    "\n",
    "Based on the problem (hate vs non-hate), we'll use k=2 clusters."
   ]
  },
  {
   "cell_type": "code",
   "execution_count": null,
   "id": "173219d6",
   "metadata": {},
   "outputs": [],
   "source": [
    "# Train K-Means with k=2\n",
    "kmeans = KMeansClustering(n_clusters=2, random_state=42)\n",
    "kmeans_labels = kmeans.fit(embeddings)\n",
    "\n",
    "# Add predictions to dataframe\n",
    "df['kmeans_cluster'] = kmeans_labels\n",
    "\n",
    "print(\"\\nCluster distribution:\")\n",
    "print(df['kmeans_cluster'].value_counts())"
   ]
  },
  {
   "cell_type": "markdown",
   "id": "b4955632",
   "metadata": {},
   "source": [
    "### 3.3 Evaluate K-Means"
   ]
  },
  {
   "cell_type": "code",
   "execution_count": null,
   "id": "76214209",
   "metadata": {},
   "outputs": [],
   "source": [
    "# Get ground truth labels\n",
    "y_true = df['class'].values\n",
    "\n",
    "# Evaluate K-Means\n",
    "evaluator_kmeans = ClusteringEvaluator()\n",
    "kmeans_results = evaluator_kmeans.evaluate(\n",
    "    y_true,\n",
    "    kmeans_labels,\n",
    "    embeddings=embeddings\n",
    ")"
   ]
  },
  {
   "cell_type": "code",
   "execution_count": null,
   "id": "c5069be1",
   "metadata": {},
   "outputs": [],
   "source": [
    "# Plot confusion matrix\n",
    "evaluator_kmeans.plot_confusion_matrix(\n",
    "    y_true,\n",
    "    kmeans_labels,\n",
    "    save_path='../outputs/figures/kmeans_confusion_matrix.png'\n",
    ")"
   ]
  },
  {
   "cell_type": "markdown",
   "id": "65532598",
   "metadata": {},
   "source": [
    "## 4. DBSCAN Clustering"
   ]
  },
  {
   "cell_type": "code",
   "execution_count": null,
   "id": "8ef1af74",
   "metadata": {},
   "outputs": [],
   "source": [
    "# Train DBSCAN\n",
    "dbscan = DBSCANClustering(eps=0.5, min_samples=5)\n",
    "dbscan_labels = dbscan.fit(embeddings)\n",
    "\n",
    "# Add predictions to dataframe\n",
    "df['dbscan_cluster'] = dbscan_labels\n",
    "\n",
    "print(\"\\nCluster distribution:\")\n",
    "print(df['dbscan_cluster'].value_counts())"
   ]
  },
  {
   "cell_type": "markdown",
   "id": "c1a2707b",
   "metadata": {},
   "source": [
    "### 4.1 Evaluate DBSCAN"
   ]
  },
  {
   "cell_type": "code",
   "execution_count": null,
   "id": "074f33a1",
   "metadata": {},
   "outputs": [],
   "source": [
    "# Evaluate DBSCAN\n",
    "evaluator_dbscan = ClusteringEvaluator()\n",
    "dbscan_results = evaluator_dbscan.evaluate(\n",
    "    y_true,\n",
    "    dbscan_labels,\n",
    "    embeddings=embeddings\n",
    ")"
   ]
  },
  {
   "cell_type": "code",
   "execution_count": null,
   "id": "c53c82c2",
   "metadata": {},
   "outputs": [],
   "source": [
    "# Plot confusion matrix\n",
    "evaluator_dbscan.plot_confusion_matrix(\n",
    "    y_true,\n",
    "    dbscan_labels,\n",
    "    save_path='../outputs/figures/dbscan_confusion_matrix.png'\n",
    ")"
   ]
  },
  {
   "cell_type": "markdown",
   "id": "a18e5d8d",
   "metadata": {},
   "source": [
    "## 5. Compare Methods"
   ]
  },
  {
   "cell_type": "code",
   "execution_count": null,
   "id": "3e149034",
   "metadata": {},
   "outputs": [],
   "source": [
    "# Compare methods\n",
    "all_results = {\n",
    "    'K-Means': kmeans_results,\n",
    "    'DBSCAN': dbscan_results\n",
    "}\n",
    "\n",
    "compare_clustering_methods(\n",
    "    all_results,\n",
    "    save_path='../outputs/figures/method_comparison.png'\n",
    ")"
   ]
  },
  {
   "cell_type": "code",
   "execution_count": null,
   "id": "bcd47446",
   "metadata": {},
   "outputs": [],
   "source": [
    "# Print summary\n",
    "print(\"\\n\" + \"=\"*70)\n",
    "print(\"RESULTS SUMMARY\")\n",
    "print(\"=\"*70)\n",
    "\n",
    "for method, results in all_results.items():\n",
    "    print(f\"\\n{method}:\")\n",
    "    print(f\"  ARI:       {results['adjusted_rand_index']:.4f}\")\n",
    "    print(f\"  NMI:       {results['normalized_mutual_info']:.4f}\")\n",
    "    print(f\"  V-Measure: {results['v_measure']:.4f}\")\n",
    "    if 'silhouette' in results:\n",
    "        print(f\"  Silhouette: {results['silhouette']:.4f}\")"
   ]
  },
  {
   "cell_type": "markdown",
   "id": "23b70b52",
   "metadata": {},
   "source": [
    "## 6. Save Results"
   ]
  },
  {
   "cell_type": "code",
   "execution_count": null,
   "id": "83475b50",
   "metadata": {},
   "outputs": [],
   "source": [
    "# Save results\n",
    "results_df = pd.DataFrame(all_results).T\n",
    "results_path = '../outputs/results/clustering_results.csv'\n",
    "Path(results_path).parent.mkdir(parents=True, exist_ok=True)\n",
    "results_df.to_csv(results_path)\n",
    "print(f\"Saved results to {results_path}\")\n",
    "\n",
    "# Save dataframe with predictions\n",
    "df.to_csv('../outputs/results/predictions.csv', index=False)\n",
    "print(\"Saved predictions to ../outputs/results/predictions.csv\")"
   ]
  },
  {
   "cell_type": "markdown",
   "id": "a1dfb72b",
   "metadata": {},
   "source": [
    "## Summary\n",
    "\n",
    "This notebook demonstrated:\n",
    "1. Generating sentence embeddings using SBERT\n",
    "2. Applying K-Means and DBSCAN clustering\n",
    "3. Evaluating using ARI and other metrics\n",
    "4. Comparing different clustering methods\n",
    "\n",
    "**Key Findings:**\n",
    "- The Adjusted Rand Index (ARI) measures agreement between predicted clusters and true labels\n",
    "- K-Means with k=2 provides a simple baseline for binary classification\n",
    "- DBSCAN can identify outliers but may find more than 2 clusters\n",
    "- Results can be compared against supervised baselines (BERT fine-tuning)"
   ]
  }
 ],
 "metadata": {
  "language_info": {
   "name": "python"
  }
 },
 "nbformat": 4,
 "nbformat_minor": 5
}
